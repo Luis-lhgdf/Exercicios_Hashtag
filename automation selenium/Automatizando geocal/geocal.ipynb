{
 "cells": [
  {
   "cell_type": "code",
   "execution_count": 22,
   "metadata": {},
   "outputs": [
    {
     "ename": "TimeoutException",
     "evalue": "Message: \nStacktrace:\nBacktrace:\n\tGetHandleVerifier [0x00EE6E73+48323]\n\t(No symbol) [0x00E79661]\n\t(No symbol) [0x00D85308]\n\t(No symbol) [0x00DB0B45]\n\t(No symbol) [0x00DB0CDB]\n\t(No symbol) [0x00DDE3D2]\n\t(No symbol) [0x00DCA924]\n\t(No symbol) [0x00DDCAC2]\n\t(No symbol) [0x00DCA6D6]\n\t(No symbol) [0x00DA847C]\n\t(No symbol) [0x00DA957D]\n\tGetHandleVerifier [0x0114FD5D+2575277]\n\tGetHandleVerifier [0x0118F86E+2836158]\n\tGetHandleVerifier [0x011896DC+2811180]\n\tGetHandleVerifier [0x00F741B0+626688]\n\t(No symbol) [0x00E8314C]\n\t(No symbol) [0x00E7F4B8]\n\t(No symbol) [0x00E7F59B]\n\t(No symbol) [0x00E721B7]\n\tBaseThreadInitThunk [0x75FA00C9+25]\n\tRtlGetAppContainerNamedObjectPath [0x772E7B1E+286]\n\tRtlGetAppContainerNamedObjectPath [0x772E7AEE+238]\n",
     "output_type": "error",
     "traceback": [
      "\u001b[1;31m---------------------------------------------------------------------------\u001b[0m",
      "\u001b[1;31mTimeoutException\u001b[0m                          Traceback (most recent call last)",
      "Cell \u001b[1;32mIn[22], line 19\u001b[0m\n\u001b[0;32m     16\u001b[0m driver\u001b[39m.\u001b[39mswitch_to\u001b[39m.\u001b[39mframe(iframe)\n\u001b[0;32m     18\u001b[0m \u001b[39m# Encontre o elemento \"#document\" dentro do iframe\u001b[39;00m\n\u001b[1;32m---> 19\u001b[0m document_element \u001b[39m=\u001b[39m WebDriverWait(driver, \u001b[39m10\u001b[39;49m)\u001b[39m.\u001b[39;49muntil(EC\u001b[39m.\u001b[39;49mpresence_of_element_located((By\u001b[39m.\u001b[39;49mID, \u001b[39m\"\u001b[39;49m\u001b[39m#document\u001b[39;49m\u001b[39m\"\u001b[39;49m)))\n\u001b[0;32m     21\u001b[0m \u001b[39m# Use JavaScript para obter o conteúdo do #document\u001b[39;00m\n\u001b[0;32m     22\u001b[0m document_content \u001b[39m=\u001b[39m driver\u001b[39m.\u001b[39mexecute_script(\u001b[39m\"\u001b[39m\u001b[39mreturn arguments[0].contentDocument;\u001b[39m\u001b[39m\"\u001b[39m, document_element)\n",
      "File \u001b[1;32m~\\AppData\\Local\\Packages\\PythonSoftwareFoundation.Python.3.9_qbz5n2kfra8p0\\LocalCache\\local-packages\\Python39\\site-packages\\selenium\\webdriver\\support\\wait.py:95\u001b[0m, in \u001b[0;36mWebDriverWait.until\u001b[1;34m(self, method, message)\u001b[0m\n\u001b[0;32m     93\u001b[0m     \u001b[39mif\u001b[39;00m time\u001b[39m.\u001b[39mmonotonic() \u001b[39m>\u001b[39m end_time:\n\u001b[0;32m     94\u001b[0m         \u001b[39mbreak\u001b[39;00m\n\u001b[1;32m---> 95\u001b[0m \u001b[39mraise\u001b[39;00m TimeoutException(message, screen, stacktrace)\n",
      "\u001b[1;31mTimeoutException\u001b[0m: Message: \nStacktrace:\nBacktrace:\n\tGetHandleVerifier [0x00EE6E73+48323]\n\t(No symbol) [0x00E79661]\n\t(No symbol) [0x00D85308]\n\t(No symbol) [0x00DB0B45]\n\t(No symbol) [0x00DB0CDB]\n\t(No symbol) [0x00DDE3D2]\n\t(No symbol) [0x00DCA924]\n\t(No symbol) [0x00DDCAC2]\n\t(No symbol) [0x00DCA6D6]\n\t(No symbol) [0x00DA847C]\n\t(No symbol) [0x00DA957D]\n\tGetHandleVerifier [0x0114FD5D+2575277]\n\tGetHandleVerifier [0x0118F86E+2836158]\n\tGetHandleVerifier [0x011896DC+2811180]\n\tGetHandleVerifier [0x00F741B0+626688]\n\t(No symbol) [0x00E8314C]\n\t(No symbol) [0x00E7F4B8]\n\t(No symbol) [0x00E7F59B]\n\t(No symbol) [0x00E721B7]\n\tBaseThreadInitThunk [0x75FA00C9+25]\n\tRtlGetAppContainerNamedObjectPath [0x772E7B1E+286]\n\tRtlGetAppContainerNamedObjectPath [0x772E7AEE+238]\n"
     ]
    }
   ],
   "source": [
    "from selenium import webdriver\n",
    "from selenium.webdriver.common.by import By\n",
    "from selenium.webdriver.support.ui import WebDriverWait\n",
    "from selenium.webdriver.support import expected_conditions as EC\n",
    "\n",
    "# Configuração do Selenium e do driver do navegador (no exemplo, usaremos o Chrome)\n",
    "driver = webdriver.Chrome()\n",
    "\n",
    "# Acesse a página que contém o iframe\n",
    "driver.get(\"https://geoprd.sabesp.com.br/sabespwfm/\")\n",
    "\n",
    "# Espere até que o iframe esteja presente na página\n",
    "iframe = WebDriverWait(driver, 10).until(EC.presence_of_element_located((By.TAG_NAME, \"iframe\")))\n",
    "\n",
    "# Mude para o contexto do iframe\n",
    "driver.switch_to.frame(iframe)\n",
    "\n",
    "# Encontre o elemento \"#document\" dentro do iframe\n",
    "document_element = WebDriverWait(driver, 10).until(EC.presence_of_element_located((By.ID, \"#document\")))\n",
    "\n",
    "# Use JavaScript para obter o conteúdo do #document\n",
    "document_content = driver.execute_script(\"return arguments[0].contentDocument;\", document_element)\n",
    "\n",
    "# Agora, use o XPath para encontrar o elemento desejado dentro do \"#document\"\n",
    "xpash_element_inside_document = document_content.find_element(By.XPATH, \"//*[@id='USER']\")\n",
    "\n",
    "# Faça alguma interação com o elemento encontrado, por exemplo, imprimir o texto\n",
    "print(xpash_element_inside_document.text)\n",
    "\n",
    "# Lembre-se de voltar ao contexto padrão fora do iframe, caso precise interagir com outros elementos na página principal\n",
    "driver.switch_to.default_content()\n",
    "\n",
    "# Feche o navegador\n",
    "driver.quit()\n"
   ]
  }
 ],
 "metadata": {
  "kernelspec": {
   "display_name": "Python 3",
   "language": "python",
   "name": "python3"
  },
  "language_info": {
   "codemirror_mode": {
    "name": "ipython",
    "version": 3
   },
   "file_extension": ".py",
   "mimetype": "text/x-python",
   "name": "python",
   "nbconvert_exporter": "python",
   "pygments_lexer": "ipython3",
   "version": "3.9.13"
  },
  "orig_nbformat": 4
 },
 "nbformat": 4,
 "nbformat_minor": 2
}
