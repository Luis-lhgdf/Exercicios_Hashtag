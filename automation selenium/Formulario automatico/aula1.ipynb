{
 "cells": [
  {
   "cell_type": "code",
   "execution_count": 64,
   "metadata": {},
   "outputs": [],
   "source": [
    "from selenium import webdriver\n",
    "from selenium.webdriver.common.by import By\n",
    "navegador = webdriver.Chrome()\n"
   ]
  },
  {
   "cell_type": "code",
   "execution_count": 65,
   "metadata": {},
   "outputs": [],
   "source": [
    "navegador.get(r\"C:\\Users\\luisg\\OneDrive\\Documentos\\GitHub\\Exercicios_Hashtag\\Cod selenium\\formulario.html\")"
   ]
  },
  {
   "cell_type": "code",
   "execution_count": 66,
   "metadata": {},
   "outputs": [],
   "source": [
    "# clique em mim\n",
    "\n",
    "navegador.find_element(By.XPATH, '/html/body/form/input[1]').click()\n",
    "navegador.switch_to.alert.accept()\n"
   ]
  },
  {
   "cell_type": "code",
   "execution_count": 67,
   "metadata": {},
   "outputs": [],
   "source": [
    "# Ativando check buttons\n",
    "\n",
    "navegador.find_element(By.XPATH, '/html/body/form/input[2]').click()"
   ]
  },
  {
   "cell_type": "code",
   "execution_count": 68,
   "metadata": {},
   "outputs": [],
   "source": [
    "# Alterando as cores\n",
    "navegador.find_element(By.XPATH, '/html/body/form/input[4]').clear()\n",
    "navegador.find_element(By.XPATH, '/html/body/form/input[4]').send_keys('#E54915')"
   ]
  },
  {
   "cell_type": "code",
   "execution_count": 69,
   "metadata": {},
   "outputs": [],
   "source": [
    "# adicionando data dd/mm/aaaa\n",
    "navegador.find_element(By.XPATH, '/html/body/form/input[6]').clear()\n",
    "navegador.find_element(By.XPATH, '/html/body/form/input[6]').send_keys('01/12/1980')\n",
    "        "
   ]
  },
  {
   "cell_type": "code",
   "execution_count": 70,
   "metadata": {},
   "outputs": [],
   "source": [
    "# adicionando data de aniversario e hora\n",
    "\n",
    "from selenium.webdriver.common.keys import Keys\n",
    "navegador.find_element(By.XPATH, '/html/body/form/input[7]').clear()\n",
    "navegador.find_element(By.XPATH, '/html/body/form/input[7]').send_keys('28/02/2022', Keys.TAB, '22:30')"
   ]
  },
  {
   "cell_type": "code",
   "execution_count": 71,
   "metadata": {},
   "outputs": [],
   "source": [
    "# inserindo mes e ano\n",
    "navegador.find_element(By.XPATH, '/html/body/form/input[9]').clear()\n",
    "navegador.find_element(By.XPATH, '/html/body/form/input[9]').send_keys('02', Keys.TAB, '2002')"
   ]
  },
  {
   "cell_type": "code",
   "execution_count": 72,
   "metadata": {},
   "outputs": [],
   "source": [
    "# inserindo numeros\n",
    "navegador.find_element(By.XPATH, '/html/body/form/input[10]').clear()\n",
    "navegador.find_element(By.XPATH, '/html/body/form/input[10]').send_keys(123456)"
   ]
  },
  {
   "cell_type": "code",
   "execution_count": 73,
   "metadata": {},
   "outputs": [],
   "source": [
    "# digitante senha\n",
    "\n",
    "navegador.find_element(By.XPATH, '/html/body/form/input[11]').clear()\n",
    "navegador.find_element(By.XPATH, '/html/body/form/input[11]').send_keys('951357')"
   ]
  },
  {
   "cell_type": "code",
   "execution_count": 74,
   "metadata": {},
   "outputs": [],
   "source": [
    "# ativando radio buttons\n",
    "\n",
    "navegador.find_element(By.XPATH, '/html/body/form/input[13]').click()"
   ]
  },
  {
   "cell_type": "code",
   "execution_count": 75,
   "metadata": {},
   "outputs": [],
   "source": [
    "# ativando volume\n",
    "\n",
    "navegador.find_element(By.XPATH, '/html/body/form/input[15]').clear()\n",
    "for c in range(0,20):\n",
    "\n",
    "    navegador.find_element(By.XPATH, '/html/body/form/input[15]').send_keys(Keys.ARROW_RIGHT)"
   ]
  },
  {
   "cell_type": "code",
   "execution_count": 76,
   "metadata": {},
   "outputs": [],
   "source": [
    "# escrevendp meu time:\n",
    "\n",
    "navegador.find_element(By.XPATH, '/html/body/form/input[16]').clear()\n",
    "navegador.find_element(By.XPATH, '/html/body/form/input[16]').send_keys('Corinthians')"
   ]
  },
  {
   "cell_type": "code",
   "execution_count": 77,
   "metadata": {},
   "outputs": [],
   "source": [
    "import datetime\n",
    "\n",
    "hora = datetime.datetime.now().strftime('%H:%M')\n",
    "navegador.find_element(By.XPATH, '/html/body/form/input[17]').clear()\n",
    "navegador.find_element(By.XPATH, '/html/body/form/input[17]').send_keys(hora)"
   ]
  },
  {
   "cell_type": "code",
   "execution_count": 78,
   "metadata": {},
   "outputs": [],
   "source": [
    "# adicionando semana e ano\n",
    "navegador.find_element(By.XPATH, '/html/body/form/input[18]').clear()\n",
    "\n",
    "navegador.find_element(By.XPATH, '/html/body/form/input[18]').send_keys(14,2023)"
   ]
  },
  {
   "cell_type": "code",
   "execution_count": 79,
   "metadata": {},
   "outputs": [],
   "source": [
    "# adicionando texto longo\n",
    "\n",
    "texto = f'hello word\\nOla mundo'\n",
    "\n",
    "navegador.find_element(By.XPATH, '//*[@id=\"story\"]').clear()\n",
    "navegador.find_element(By.XPATH, '//*[@id=\"story\"]').send_keys(texto)"
   ]
  },
  {
   "cell_type": "code",
   "execution_count": 80,
   "metadata": {},
   "outputs": [],
   "source": [
    "# usando valores select \n",
    "from selenium.webdriver.support.ui import Select\n",
    "\n",
    "selecionar = Select(navegador.find_element(By.XPATH, '/html/body/form/select[1]'))\n",
    "selecionar.select_by_value('c')"
   ]
  },
  {
   "cell_type": "code",
   "execution_count": 81,
   "metadata": {},
   "outputs": [],
   "source": [
    "# salvando formulario\n",
    "\n",
    "navegador.find_element(By.XPATH, '/html/body/form/input[20]').click()"
   ]
  },
  {
   "cell_type": "code",
   "execution_count": null,
   "metadata": {},
   "outputs": [],
   "source": []
  }
 ],
 "metadata": {
  "kernelspec": {
   "display_name": "Python 3",
   "language": "python",
   "name": "python3"
  },
  "language_info": {
   "codemirror_mode": {
    "name": "ipython",
    "version": 3
   },
   "file_extension": ".py",
   "mimetype": "text/x-python",
   "name": "python",
   "nbconvert_exporter": "python",
   "pygments_lexer": "ipython3",
   "version": "3.9.13"
  },
  "orig_nbformat": 4
 },
 "nbformat": 4,
 "nbformat_minor": 2
}
