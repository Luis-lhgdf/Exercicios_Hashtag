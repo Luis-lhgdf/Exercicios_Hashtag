{
 "cells": [
  {
   "cell_type": "code",
   "execution_count": null,
   "id": "4e28f9f7",
   "metadata": {},
   "outputs": [],
   "source": [
    "from selenium import webdriver\n",
    "from selenium.webdriver.common.by import By\n",
    "import os\n",
    "from selenium.webdriver.support.ui import Select\n",
    "import time"
   ]
  },
  {
   "cell_type": "code",
   "execution_count": null,
   "id": "59c8398d",
   "metadata": {},
   "outputs": [],
   "source": [
    "caminho = os.getcwd()\n"
   ]
  },
  {
   "cell_type": "code",
   "execution_count": null,
   "id": "c2fad57e",
   "metadata": {},
   "outputs": [],
   "source": [
    "import pandas as pd"
   ]
  },
  {
   "cell_type": "code",
   "execution_count": null,
   "id": "1670228b",
   "metadata": {},
   "outputs": [],
   "source": [
    "planilha = caminho + r'\\NotasEmitir.xlsx'\n",
    "df = pd.read_excel(planilha)\n",
    "df['Nota foi emitida?'] = None"
   ]
  },
  {
   "cell_type": "code",
   "execution_count": null,
   "id": "dac8724c",
   "metadata": {},
   "outputs": [],
   "source": [
    "#ACESSANDO O SITE\n",
    "\n",
    "\n",
    "options = webdriver.ChromeOptions()\n",
    "options.add_experimental_option(\"prefs\", {\n",
    "  \"download.default_directory\": r\"C:\\Users\\luisg\\Downloads\",\n",
    "  \"download.prompt_for_download\": False,\n",
    "  \"download.directory_upgrade\": True,\n",
    "  \"safebrowsing.enabled\": True\n",
    "})\n",
    "\n",
    "arquivo = caminho + r\"\\login.html\"\n",
    "navegador = webdriver.Chrome(options=options)\n",
    "navegador.get(arquivo)"
   ]
  },
  {
   "cell_type": "markdown",
   "id": "1333dd38",
   "metadata": {},
   "source": [
    "REALIZANDO O LOGIN NO SISTEMA"
   ]
  },
  {
   "cell_type": "code",
   "execution_count": null,
   "id": "25228a28",
   "metadata": {},
   "outputs": [],
   "source": [
    "# digitando login\n",
    "navegador.find_element(By.XPATH, '/html/body/div/form/input[1]').clear()\n",
    "navegador.find_element(By.XPATH, '/html/body/div/form/input[1]').send_keys('Luis G')\n",
    "\n",
    "# digitante senha\n",
    "navegador.find_element(By.XPATH, '/html/body/div/form/input[2]').clear()\n",
    "navegador.find_element(By.XPATH, '/html/body/div/form/input[2]').send_keys('951357')\n",
    "\n",
    "# clicando em entrar\n",
    "navegador.find_element(By.XPATH, '/html/body/div/form/button').click()\n"
   ]
  },
  {
   "cell_type": "markdown",
   "id": "6e87c79a",
   "metadata": {},
   "source": [
    "INICIANDO O PROCESSO DE EMISSÃO DE NOTA FISCAL"
   ]
  },
  {
   "cell_type": "code",
   "execution_count": null,
   "id": "8fe76e02",
   "metadata": {},
   "outputs": [],
   "source": [
    "\n",
    "for i, cliente in enumerate(df.values):\n",
    "    # preenchendo razão social\n",
    "    navegador.find_element(By.XPATH, '//*[@id=\"nome\"]').clear()\n",
    "    navegador.find_element(By.XPATH, '//*[@id=\"nome\"]').send_keys(cliente[0])\n",
    "\n",
    "    # preenchendo endereço\n",
    "    navegador.find_element(By.NAME, 'endereco').clear()\n",
    "    navegador.find_element(By.NAME, 'endereco').send_keys(cliente[3])\n",
    "\n",
    "    # Preenchendo o bairro\n",
    "    navegador.find_element(By.XPATH, '//*[@id=\"formulario\"]/input[3]').clear()\n",
    "    navegador.find_element(By.XPATH, '//*[@id=\"formulario\"]/input[3]').send_keys(cliente[4])\n",
    "\n",
    "    # preenchendo o municipio\n",
    "    navegador.find_element(By.XPATH, '//*[@id=\"formulario\"]/input[4]').clear()\n",
    "    navegador.find_element(By.XPATH, '//*[@id=\"formulario\"]/input[4]').send_keys(cliente[5])\n",
    "\n",
    "\n",
    "    #preenchendo o CEP\n",
    "    navegador.find_element(By.XPATH, '//*[@id=\"formulario\"]/input[5]').clear()\n",
    "    navegador.find_element(By.XPATH, '//*[@id=\"formulario\"]/input[5]').send_keys(cliente[2])\n",
    "\n",
    "    #preenchendo o UF\n",
    "\n",
    "    Select(navegador.find_element(By.XPATH, '//*[@id=\"formulario\"]/select')).select_by_visible_text(cliente[6])\n",
    "\n",
    "\n",
    "    # Preenchendo CPF ou CNPJ\n",
    "\n",
    "    navegador.find_element(By.XPATH, '//*[@id=\"formulario\"]/input[6]').clear()\n",
    "    navegador.find_element(By.XPATH, '//*[@id=\"formulario\"]/input[6]').send_keys(cliente[1])\n",
    "\n",
    "    # Preenchendo inscrição estatudual\n",
    "    navegador.find_element(By.XPATH, '//*[@id=\"formulario\"]/input[7]').clear()\n",
    "    navegador.find_element(By.XPATH, '//*[@id=\"formulario\"]/input[7]').send_keys(cliente[7])\n",
    "\n",
    "    ### Preenchendo dados de mercadoria\n",
    "    # descrição do produto\n",
    "    navegador.find_element(By.XPATH, '//*[@id=\"formulario\"]/input[8]').clear()\n",
    "    navegador.find_element(By.XPATH, '//*[@id=\"formulario\"]/input[8]').send_keys(cliente[8])\n",
    "\n",
    "    # preenchendo a quantidade\n",
    "    navegador.find_element(By.XPATH, '//*[@id=\"formulario\"]/input[9]').clear()\n",
    "    navegador.find_element(By.XPATH, '//*[@id=\"formulario\"]/input[9]').send_keys(cliente[9])\n",
    "\n",
    "    # preenchendo o valor unitario\n",
    "    navegador.find_element(By.XPATH, '//*[@id=\"formulario\"]/input[10]').clear()\n",
    "    navegador.find_element(By.XPATH, '//*[@id=\"formulario\"]/input[10]').send_keys(cliente[10])\n",
    "\n",
    "    # preenchendo o valor total\n",
    "\n",
    "    navegador.find_element(By.NAME, 'total').clear()\n",
    "    navegador.find_element(By.NAME, 'total').send_keys(cliente[11])\n",
    "\n",
    "    # Clicando em emitr nota fiscal\n",
    "\n",
    "    navegador.find_element(By.XPATH, '//*[@id=\"formulario\"]/button').click()\n",
    "\n",
    "    # Confirmando na planilha\n",
    "    df.loc[df['Cliente'] == str(cliente[0]), 'Nota foi emitida?'] = 'SIM'\n",
    "    time.sleep(0.5)\n",
    "\n",
    "\n"
   ]
  },
  {
   "cell_type": "code",
   "execution_count": null,
   "id": "d102f3d7",
   "metadata": {},
   "outputs": [],
   "source": [
    "df.to_excel('NotasEmitir.xlsx', index=False)"
   ]
  }
 ],
 "metadata": {
  "kernelspec": {
   "display_name": "Python 3 (ipykernel)",
   "language": "python",
   "name": "python3"
  },
  "language_info": {
   "codemirror_mode": {
    "name": "ipython",
    "version": 3
   },
   "file_extension": ".py",
   "mimetype": "text/x-python",
   "name": "python",
   "nbconvert_exporter": "python",
   "pygments_lexer": "ipython3",
   "version": "3.9.13"
  }
 },
 "nbformat": 4,
 "nbformat_minor": 5
}
