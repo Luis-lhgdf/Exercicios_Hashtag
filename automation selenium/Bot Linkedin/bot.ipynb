{
 "cells": [
  {
   "cell_type": "code",
   "execution_count": 29,
   "metadata": {},
   "outputs": [],
   "source": [
    "from selenium import webdriver\n",
    "from selenium.webdriver.chrome.service import Service\n",
    "from webdriver_manager.chrome import ChromeDriverManager\n",
    "from selenium.webdriver.common.by import By\n",
    "from selenium.webdriver.common.keys import Keys\n",
    "import time\n",
    "\n",
    "servico = Service(ChromeDriverManager().install())\n",
    "navegador = webdriver.Chrome(service=servico)"
   ]
  },
  {
   "cell_type": "code",
   "execution_count": 30,
   "metadata": {},
   "outputs": [],
   "source": [
    "# acessando o site\n",
    "navegador.get(\"https://www.linkedin.com/home\")\n",
    "\n",
    "\n",
    "\n",
    "\n",
    "\n",
    "# add login \n",
    "time.sleep(5)\n",
    "navegador.find_element(By.NAME, \"session_key\").send_keys(\"luis.gomes_@outlook.com\")\n",
    "#add senha\n",
    "\n",
    "navegador.find_element(By.NAME, \"session_password\").send_keys(\"lhgdfluis45\")\n",
    "\n",
    "# clincando em entrar\n",
    "navegador.find_element(By.XPATH, '//*[@id=\"main-content\"]/section[1]/div/div/form[1]/div[2]/button').click()\n",
    "\n",
    "#pesquisando profisões\n",
    "navegador.find_element(By.CLASS_NAME, 'search-global-typeahead__input').send_keys('Desenvolvedor Python', Keys.ENTER)\n",
    "\n",
    "time.sleep(3)\n",
    "# clicando em pessoas:\n",
    "navegador.find_element(By.XPATH, '//*[@id=\"search-reusables__filters-bar\"]/ul/li[4]/button').click()\n",
    "\n",
    "\n",
    "\n",
    "\n",
    "\n",
    "\n"
   ]
  },
  {
   "cell_type": "code",
   "execution_count": 43,
   "metadata": {},
   "outputs": [],
   "source": []
  },
  {
   "cell_type": "code",
   "execution_count": 61,
   "metadata": {},
   "outputs": [
    {
     "name": "stdout",
     "output_type": "stream",
     "text": [
      "0\n"
     ]
    }
   ],
   "source": [
    "lista = navegador.find_elements(By.PARTIAL_LINK_TEXT, 'Conectar')\n",
    "\n",
    "print(len(lista))\n",
    "\n",
    "\n"
   ]
  }
 ],
 "metadata": {
  "kernelspec": {
   "display_name": "Python 3",
   "language": "python",
   "name": "python3"
  },
  "language_info": {
   "codemirror_mode": {
    "name": "ipython",
    "version": 3
   },
   "file_extension": ".py",
   "mimetype": "text/x-python",
   "name": "python",
   "nbconvert_exporter": "python",
   "pygments_lexer": "ipython3",
   "version": "3.9.13"
  },
  "orig_nbformat": 4
 },
 "nbformat": 4,
 "nbformat_minor": 2
}
