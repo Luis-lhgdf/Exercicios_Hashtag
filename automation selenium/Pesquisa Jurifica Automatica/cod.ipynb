{
 "cells": [
  {
   "cell_type": "code",
   "execution_count": 27,
   "metadata": {},
   "outputs": [],
   "source": [
    "from selenium import webdriver\n",
    "from selenium.webdriver.common.by import By\n",
    "from selenium.webdriver import ActionChains\n",
    "import os\n",
    "import time\n",
    "import pandas as pd"
   ]
  },
  {
   "cell_type": "code",
   "execution_count": 28,
   "metadata": {},
   "outputs": [],
   "source": [
    "local = os.getcwd()\n",
    "local_planilha = local + r'\\Processos.xlsx'\n",
    "\n",
    "df = pd.read_excel(local_planilha)\n"
   ]
  },
  {
   "cell_type": "code",
   "execution_count": 29,
   "metadata": {},
   "outputs": [
    {
     "name": "stdout",
     "output_type": "stream",
     "text": [
      "<class 'pandas.core.frame.DataFrame'>\n",
      "RangeIndex: 4 entries, 0 to 3\n",
      "Data columns (total 7 columns):\n",
      " #   Column        Non-Null Count  Dtype \n",
      "---  ------        --------------  ----- \n",
      " 0   Unnamed: 0.1  4 non-null      int64 \n",
      " 1   Unnamed: 0    4 non-null      int64 \n",
      " 2   Nome          4 non-null      object\n",
      " 3   Advogado      4 non-null      object\n",
      " 4   Processo      4 non-null      object\n",
      " 5   Cidade        4 non-null      object\n",
      " 6   Status        4 non-null      object\n",
      "dtypes: int64(2), object(5)\n",
      "memory usage: 352.0+ bytes\n"
     ]
    }
   ],
   "source": [
    "df.info()"
   ]
  },
  {
   "cell_type": "code",
   "execution_count": 30,
   "metadata": {},
   "outputs": [],
   "source": [
    "navegador = webdriver.Chrome()"
   ]
  },
  {
   "cell_type": "code",
   "execution_count": null,
   "metadata": {},
   "outputs": [],
   "source": [
    "site = local + r'\\index.html'\n",
    "navegador.get(site)"
   ]
  },
  {
   "cell_type": "code",
   "execution_count": null,
   "metadata": {},
   "outputs": [],
   "source": [
    "\n",
    "\n",
    "# posicionando o Mouse para o botão de escolher estado\n",
    "for processo in df.index:\n",
    "\n",
    "   cidade = str(df.loc[processo, 'Cidade'])\n",
    "   ActionChains(navegador).move_to_element(navegador.find_element(By.XPATH, '/html/body/div/div/button')).perform()\n",
    "\n",
    "\n",
    "   navegador.find_element(By.PARTIAL_LINK_TEXT, f'{cidade}').click()\n",
    "\n",
    "\n",
    "\n",
    "   AbaHome = navegador.window_handles[0]\n",
    "   AbaVerificacao = navegador.window_handles[1]\n",
    "\n",
    "   # Indo para a nova aba aberta\n",
    "   navegador.switch_to.window(AbaVerificacao)\n",
    "\n",
    "   navegador.find_element(By.ID, 'nome').send_keys(df.loc[processo, 'Nome'])\n",
    "   navegador.find_element(By.ID, 'advogado').send_keys(df.loc[processo, 'Advogado'])\n",
    "   navegador.find_element(By.ID, 'numero').send_keys(df.loc[processo, 'Processo'])\n",
    "\n",
    "   # clicando em pesquisar\n",
    "   navegador.find_element(By.CLASS_NAME, 'registerbtn').click()\n",
    "\n",
    "   # aceitando o alerta de pesquisar no banco de dados\n",
    "   navegador.switch_to.alert.accept()\n",
    "   time.sleep(1)\n",
    "\n",
    "   # pegando a informação do novo alerta, sobre ter encontrado ou não o processo\n",
    "\n",
    "   while True:\n",
    "      try:\n",
    "         informacao = navegador.switch_to.alert.text\n",
    "         break\n",
    "      except:\n",
    "         time.sleep(0.5)\n",
    "\n",
    "\n",
    "   time.sleep(1)\n",
    "   if informacao == 'Processo encontrado com sucesso! Deseja acessar?':\n",
    "      navegador.switch_to.alert.accept()\n",
    "      df.loc[processo, 'Status'] = 'Encontrado'\n",
    "   else:\n",
    "      df.loc[processo, 'Status'] = 'Sem resultados'\n",
    "      navegador.switch_to.alert.accept()\n",
    "\n",
    "   navegador.close()\n",
    "   navegador.switch_to.window(AbaHome)\n",
    "\n",
    "navegador.quit()\n",
    "df.to_excel('Processos.xlsx')\n"
   ]
  }
 ],
 "metadata": {
  "kernelspec": {
   "display_name": "Python 3",
   "language": "python",
   "name": "python3"
  },
  "language_info": {
   "codemirror_mode": {
    "name": "ipython",
    "version": 3
   },
   "file_extension": ".py",
   "mimetype": "text/x-python",
   "name": "python",
   "nbconvert_exporter": "python",
   "pygments_lexer": "ipython3",
   "version": "3.9.13"
  },
  "orig_nbformat": 4
 },
 "nbformat": 4,
 "nbformat_minor": 2
}
